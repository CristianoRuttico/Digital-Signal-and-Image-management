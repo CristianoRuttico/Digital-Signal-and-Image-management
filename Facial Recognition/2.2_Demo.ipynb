{
 "cells": [
  {
   "cell_type": "markdown",
   "id": "b0bcba95",
   "metadata": {},
   "source": [
    "# FACIAL RECOGNITION\n",
    "## Digital Signal and Image Management Project 2021-2022<br/>\n",
    "\n",
    "Matteo Cesaro - 867350 - m.cesaro1@campus.unimib.it<br/>\n",
    "Francesco Martinelli - 873685 - f.martinelli21@campus.unimib.it<br/>\n",
    "Cristiano Ruttico - 809360 - c.ruttico@campus.unimib.it<br/>"
   ]
  },
  {
   "cell_type": "markdown",
   "id": "45e4cfcb",
   "metadata": {},
   "source": [
    "### Importazione Librerie\n",
    "Si installano ed importano le librerie necessarie"
   ]
  },
  {
   "cell_type": "code",
   "execution_count": null,
   "id": "faa18a48",
   "metadata": {
    "scrolled": true
   },
   "outputs": [],
   "source": [
    "#!pip install scikit-learn"
   ]
  },
  {
   "cell_type": "code",
   "execution_count": 13,
   "id": "698657dd",
   "metadata": {},
   "outputs": [],
   "source": [
    "from keras.models import Sequential\n",
    "from keras.layers import Dense, Input\n",
    "from keras.models import model_from_json\n",
    "from tensorflow.keras.preprocessing import image\n",
    "from keras.preprocessing.image import ImageDataGenerator"
   ]
  },
  {
   "cell_type": "code",
   "execution_count": 14,
   "id": "a8d6c5b7",
   "metadata": {},
   "outputs": [],
   "source": [
    "import numpy as np\n",
    "import os\n",
    "import cv2 as cv\n",
    "import matplotlib.pyplot as plt\n",
    "from skimage import data, color\n",
    "from skimage.transform import resize\n",
    "\n",
    "face_detector = cv.CascadeClassifier(cv.data.haarcascades + 'haarcascade_frontalface_default.xml')\n",
    "ImageDataGenerator_obj = ImageDataGenerator(brightness_range=[0.5,0.5])"
   ]
  },
  {
   "cell_type": "markdown",
   "id": "3cf79d66",
   "metadata": {},
   "source": [
    "### Caricamento del Modello\n",
    "\n",
    "Il modello viene caricato con i propri pesi addestrati sul dataset di immagini degli autori."
   ]
  },
  {
   "cell_type": "code",
   "execution_count": 15,
   "id": "8d6a3fe3",
   "metadata": {},
   "outputs": [
    {
     "name": "stdout",
     "output_type": "stream",
     "text": [
      "The current working directory is /Users/francescomartinelli\n"
     ]
    }
   ],
   "source": [
    "#creazione cartella\n",
    "path = os.getcwd()\n",
    "print (\"The current working directory is %s\" % path)"
   ]
  },
  {
   "cell_type": "code",
   "execution_count": 16,
   "id": "59894a03",
   "metadata": {},
   "outputs": [
    {
     "name": "stdout",
     "output_type": "stream",
     "text": [
      "Loaded model from disk\n"
     ]
    }
   ],
   "source": [
    "json_file = open('/Users/francescomartinelli/dsim/model_finale-2.json', 'r')\n",
    "loaded_model_json = json_file.read()\n",
    "json_file.close()\n",
    "loaded_model = model_from_json(loaded_model_json)\n",
    "# load weights into new model\n",
    "loaded_model.load_weights(\"/Users/francescomartinelli/dsim/model_finale-2.h5\")\n",
    "print(\"Loaded model from disk\")"
   ]
  },
  {
   "cell_type": "code",
   "execution_count": 17,
   "id": "4117cabe",
   "metadata": {},
   "outputs": [],
   "source": [
    "identifier = loaded_model"
   ]
  },
  {
   "cell_type": "markdown",
   "id": "f856de95",
   "metadata": {},
   "source": [
    "Si controlla che il modello sia stato caricato correttamente. Come si vede non è presente il layer di input."
   ]
  },
  {
   "cell_type": "code",
   "execution_count": 18,
   "id": "046f41d4",
   "metadata": {},
   "outputs": [
    {
     "name": "stdout",
     "output_type": "stream",
     "text": [
      "Model: \"sequential\"\n",
      "_________________________________________________________________\n",
      " Layer (type)                Output Shape              Param #   \n",
      "=================================================================\n",
      " conv2d (Conv2D)             (None, 293, 293, 64)      9472      \n",
      "                                                                 \n",
      " max_pooling2d (MaxPooling2D  (None, 146, 146, 64)     0         \n",
      " )                                                               \n",
      "                                                                 \n",
      " conv2d_1 (Conv2D)           (None, 144, 144, 32)      18464     \n",
      "                                                                 \n",
      " conv2d_2 (Conv2D)           (None, 142, 142, 16)      4624      \n",
      "                                                                 \n",
      " max_pooling2d_1 (MaxPooling  (None, 71, 71, 16)       0         \n",
      " 2D)                                                             \n",
      "                                                                 \n",
      " flatten (Flatten)           (None, 80656)             0         \n",
      "                                                                 \n",
      " dense (Dense)               (None, 3)                 241971    \n",
      "                                                                 \n",
      "=================================================================\n",
      "Total params: 274,531\n",
      "Trainable params: 274,531\n",
      "Non-trainable params: 0\n",
      "_________________________________________________________________\n"
     ]
    }
   ],
   "source": [
    "identifier.summary()"
   ]
  },
  {
   "cell_type": "code",
   "execution_count": 19,
   "id": "0d7b6517",
   "metadata": {},
   "outputs": [],
   "source": [
    "model = Sequential()\n",
    "model.add(Input(shape=(299,299,3)))\n",
    "model.add(identifier)"
   ]
  },
  {
   "cell_type": "markdown",
   "id": "d780bd3a",
   "metadata": {},
   "source": [
    "Il layer di input viene aggiunto con shape identica a quella su cui è stato precedentemente addestrato il modello."
   ]
  },
  {
   "cell_type": "markdown",
   "id": "18026dc1",
   "metadata": {},
   "source": [
    "### Demo"
   ]
  },
  {
   "cell_type": "markdown",
   "id": "86c90873",
   "metadata": {},
   "source": [
    "Viene construita una funzione che riassume il preprocessing eseguito sulle immagini del dataset prima del training del modello e la predizione adoperata dal modello. La funzione chiamata \"process_frame\" prende in input un immagine e restituisce un colore. Ad ogni colore corrisponde una classe, come indicato nello script seguente. Se nessun volto è identificato il colore in output è il rosso (siamo in spazio BGR)."
   ]
  },
  {
   "cell_type": "code",
   "execution_count": 20,
   "id": "684597b4",
   "metadata": {},
   "outputs": [],
   "source": [
    "def process_frame(img):\n",
    "    if who is not None:\n",
    "        xyzh = face_detector.detectMultiScale(who[:,:,1])\n",
    "        if len(xyzh) >= 1:\n",
    "            xyzh = xyzh[0]\n",
    "            face = who[xyzh[1]:(xyzh[1]+xyzh[0]), xyzh[0]+15:xyzh[0] + xyzh[2]-15]\n",
    "            face = resize(face, (299,299,3), mode=\"symmetric\", preserve_range=True)\n",
    "            face = image.img_to_array(face)  \n",
    "            face = np.expand_dims(face, 0)\n",
    "            iterator = ImageDataGenerator_obj.flow(face, batch_size=1)\n",
    "            chunk = iterator.next()\n",
    "            face = chunk[0].astype('float32')/255\n",
    "            face = np.expand_dims(face,0)\n",
    "            pred = model.predict(face)\n",
    "            pred = np.argmax(pred)\n",
    "            if pred == 0:\n",
    "                col = (0,255,255) # Yellow - 0 - Cristiano\n",
    "            elif pred == 1:\n",
    "                col = (0,255,0) # Green - 1 - Francesco\n",
    "            elif pred == 2:\n",
    "                col = (255,0,0) # Blue - 2 - Matteo\n",
    "        else: \n",
    "            col = (0,0,255)\n",
    "    \n",
    "        return col"
   ]
  },
  {
   "cell_type": "markdown",
   "id": "a0324f17",
   "metadata": {},
   "source": [
    "Si imposta lo streaming di frame. È stato aggiunto al codice utilizzato per la raccolta dati, la funzione \" cv.circle\" che traccia sull'immagine mostrata a schermo un cerchio nell'angolo in alto a sinistra. Il colore del cerchio di default è rosso ma premendo \"p\" il frame viene processato dalla funzione definita in precedenza e il colore del cerchio viene riassegnato in base all'output del modello. Premendo \"q\" come in precedenza si interrompe lo streaming."
   ]
  },
  {
   "cell_type": "code",
   "execution_count": 36,
   "id": "75754553",
   "metadata": {},
   "outputs": [],
   "source": [
    "# Streaming\n",
    "col = (0,0,255)\n",
    "cap = cv.VideoCapture(0)\n",
    "while(True):\n",
    "    # Capture new frame\n",
    "    r, frame = cap.read()\n",
    "    \n",
    "    # Create figure\n",
    "    cv.circle(frame, (100, 50), 20, col, 3)\n",
    "\n",
    "    # Visualize (external window)\n",
    "    cv.imshow('Video', frame)\n",
    "    if cv.waitKey(20) & 0xFF == ord('q'): # Interrupt when Q key is pressed   \n",
    "        break\n",
    "    elif cv.waitKey(20) & 0xFF == ord('p'):\n",
    "        who = frame\n",
    "        col = process_frame(who)\n",
    "        \n",
    " \n",
    "cv.destroyAllWindows()\n",
    "cap.release()\n"
   ]
  },
  {
   "cell_type": "code",
   "execution_count": 23,
   "id": "56739001",
   "metadata": {},
   "outputs": [],
   "source": [
    "cap.release()\n",
    "cv.destroyAllWindows()"
   ]
  },
  {
   "cell_type": "code",
   "execution_count": null,
   "id": "2dcc3334",
   "metadata": {},
   "outputs": [],
   "source": []
  }
 ],
 "metadata": {
  "kernelspec": {
   "display_name": "Python 3 (ipykernel)",
   "language": "python",
   "name": "python3"
  },
  "language_info": {
   "codemirror_mode": {
    "name": "ipython",
    "version": 3
   },
   "file_extension": ".py",
   "mimetype": "text/x-python",
   "name": "python",
   "nbconvert_exporter": "python",
   "pygments_lexer": "ipython3",
   "version": "3.9.6"
  }
 },
 "nbformat": 4,
 "nbformat_minor": 5
}
